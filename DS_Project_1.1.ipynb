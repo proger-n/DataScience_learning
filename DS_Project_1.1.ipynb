{
 "cells": [
  {
   "cell_type": "code",
   "execution_count": 29,
   "id": "d901a61b",
   "metadata": {},
   "outputs": [],
   "source": [
    "import pandas as pd"
   ]
  },
  {
   "cell_type": "code",
   "execution_count": 30,
   "id": "3f2d4340",
   "metadata": {},
   "outputs": [],
   "source": [
    "bookings = pd.read_csv('https://stepik.org/media/attachments/lesson/360344/bookings.csv', sep=\";\")"
   ]
  },
  {
   "cell_type": "code",
   "execution_count": 31,
   "id": "e7dab6d5",
   "metadata": {},
   "outputs": [],
   "source": [
    "bookings_head = bookings.head(7)"
   ]
  },
  {
   "cell_type": "markdown",
   "id": "95980877",
   "metadata": {},
   "source": [
    "###### проверка содержимого датафрейма"
   ]
  },
  {
   "cell_type": "code",
   "execution_count": 32,
   "id": "b30888fc",
   "metadata": {},
   "outputs": [
    {
     "data": {
      "text/plain": [
       "(119390, 21)"
      ]
     },
     "execution_count": 32,
     "metadata": {},
     "output_type": "execute_result"
    }
   ],
   "source": [
    "bookings.shape"
   ]
  },
  {
   "cell_type": "code",
   "execution_count": 33,
   "id": "6cde4933",
   "metadata": {},
   "outputs": [
    {
     "data": {
      "text/plain": [
       "Hotel                         object\n",
       "Is Canceled                    int64\n",
       "Lead Time                      int64\n",
       "arrival full date             object\n",
       "Arrival Date Year              int64\n",
       "Arrival Date Month            object\n",
       "Arrival Date Week Number       int64\n",
       "Arrival Date Day of Month      int64\n",
       "Stays in Weekend nights        int64\n",
       "Stays in week nights           int64\n",
       "stays total nights             int64\n",
       "Adults                         int64\n",
       "Children                     float64\n",
       "Babies                         int64\n",
       "Meal                          object\n",
       "Country                       object\n",
       "Reserved Room Type            object\n",
       "Assigned room type            object\n",
       "customer type                 object\n",
       "Reservation Status            object\n",
       "Reservation status_date       object\n",
       "dtype: object"
      ]
     },
     "execution_count": 33,
     "metadata": {},
     "output_type": "execute_result"
    }
   ],
   "source": [
    "bookings.dtypes"
   ]
  },
  {
   "cell_type": "markdown",
   "id": "81aa81e9",
   "metadata": {},
   "source": [
    "###### Переименование столбцов для дальнейшего удобства в их мспользовании"
   ]
  },
  {
   "cell_type": "code",
   "execution_count": 34,
   "id": "46dd0b11",
   "metadata": {},
   "outputs": [],
   "source": [
    "columns_list_old = list(bookings.columns)"
   ]
  },
  {
   "cell_type": "code",
   "execution_count": 35,
   "id": "ca69261a",
   "metadata": {},
   "outputs": [],
   "source": [
    "columns_list_new = list(bookings.columns.str.lower())"
   ]
  },
  {
   "cell_type": "code",
   "execution_count": 36,
   "id": "89b10d00",
   "metadata": {},
   "outputs": [],
   "source": [
    "for i in range(len(columns_list_new)):\n",
    "    columns_list_new[i] = columns_list_new[i].replace(' ', '_')"
   ]
  },
  {
   "cell_type": "code",
   "execution_count": 43,
   "id": "80b1b4ee",
   "metadata": {},
   "outputs": [],
   "source": [
    "columns_name_dict = dict(zip(columns_list_old, columns_list_new))"
   ]
  },
  {
   "cell_type": "code",
   "execution_count": 47,
   "id": "4081b65b",
   "metadata": {},
   "outputs": [],
   "source": [
    "bookings = bookings.rename(columns=columns_name_dict)"
   ]
  },
  {
   "cell_type": "code",
   "execution_count": 49,
   "id": "2215d03c",
   "metadata": {},
   "outputs": [
    {
     "data": {
      "text/html": [
       "<div>\n",
       "<style scoped>\n",
       "    .dataframe tbody tr th:only-of-type {\n",
       "        vertical-align: middle;\n",
       "    }\n",
       "\n",
       "    .dataframe tbody tr th {\n",
       "        vertical-align: top;\n",
       "    }\n",
       "\n",
       "    .dataframe thead th {\n",
       "        text-align: right;\n",
       "    }\n",
       "</style>\n",
       "<table border=\"1\" class=\"dataframe\">\n",
       "  <thead>\n",
       "    <tr style=\"text-align: right;\">\n",
       "      <th></th>\n",
       "      <th>hotel</th>\n",
       "      <th>is_canceled</th>\n",
       "      <th>lead_time</th>\n",
       "      <th>arrival_full_date</th>\n",
       "      <th>arrival_date_year</th>\n",
       "      <th>arrival_date_month</th>\n",
       "      <th>arrival_date_week_number</th>\n",
       "      <th>arrival_date_day_of_month</th>\n",
       "      <th>stays_in_weekend_nights</th>\n",
       "      <th>stays_in_week_nights</th>\n",
       "      <th>...</th>\n",
       "      <th>adults</th>\n",
       "      <th>children</th>\n",
       "      <th>babies</th>\n",
       "      <th>meal</th>\n",
       "      <th>country</th>\n",
       "      <th>reserved_room_type</th>\n",
       "      <th>assigned_room_type</th>\n",
       "      <th>customer_type</th>\n",
       "      <th>reservation_status</th>\n",
       "      <th>reservation_status_date</th>\n",
       "    </tr>\n",
       "  </thead>\n",
       "  <tbody>\n",
       "    <tr>\n",
       "      <th>0</th>\n",
       "      <td>Resort Hotel</td>\n",
       "      <td>0</td>\n",
       "      <td>342</td>\n",
       "      <td>2015-07-01</td>\n",
       "      <td>2015</td>\n",
       "      <td>July</td>\n",
       "      <td>27</td>\n",
       "      <td>1</td>\n",
       "      <td>0</td>\n",
       "      <td>0</td>\n",
       "      <td>...</td>\n",
       "      <td>2</td>\n",
       "      <td>0.0</td>\n",
       "      <td>0</td>\n",
       "      <td>BB</td>\n",
       "      <td>PRT</td>\n",
       "      <td>C</td>\n",
       "      <td>C</td>\n",
       "      <td>Transient</td>\n",
       "      <td>Check-Out</td>\n",
       "      <td>2015-07-01</td>\n",
       "    </tr>\n",
       "    <tr>\n",
       "      <th>1</th>\n",
       "      <td>Resort Hotel</td>\n",
       "      <td>0</td>\n",
       "      <td>737</td>\n",
       "      <td>2015-07-01</td>\n",
       "      <td>2015</td>\n",
       "      <td>July</td>\n",
       "      <td>27</td>\n",
       "      <td>1</td>\n",
       "      <td>0</td>\n",
       "      <td>0</td>\n",
       "      <td>...</td>\n",
       "      <td>2</td>\n",
       "      <td>0.0</td>\n",
       "      <td>0</td>\n",
       "      <td>BB</td>\n",
       "      <td>PRT</td>\n",
       "      <td>C</td>\n",
       "      <td>C</td>\n",
       "      <td>Transient</td>\n",
       "      <td>Check-Out</td>\n",
       "      <td>2015-07-01</td>\n",
       "    </tr>\n",
       "    <tr>\n",
       "      <th>2</th>\n",
       "      <td>Resort Hotel</td>\n",
       "      <td>0</td>\n",
       "      <td>7</td>\n",
       "      <td>2015-07-01</td>\n",
       "      <td>2015</td>\n",
       "      <td>July</td>\n",
       "      <td>27</td>\n",
       "      <td>1</td>\n",
       "      <td>0</td>\n",
       "      <td>1</td>\n",
       "      <td>...</td>\n",
       "      <td>1</td>\n",
       "      <td>0.0</td>\n",
       "      <td>0</td>\n",
       "      <td>BB</td>\n",
       "      <td>GBR</td>\n",
       "      <td>A</td>\n",
       "      <td>C</td>\n",
       "      <td>Transient</td>\n",
       "      <td>Check-Out</td>\n",
       "      <td>2015-07-02</td>\n",
       "    </tr>\n",
       "    <tr>\n",
       "      <th>3</th>\n",
       "      <td>Resort Hotel</td>\n",
       "      <td>0</td>\n",
       "      <td>13</td>\n",
       "      <td>2015-07-01</td>\n",
       "      <td>2015</td>\n",
       "      <td>July</td>\n",
       "      <td>27</td>\n",
       "      <td>1</td>\n",
       "      <td>0</td>\n",
       "      <td>1</td>\n",
       "      <td>...</td>\n",
       "      <td>1</td>\n",
       "      <td>0.0</td>\n",
       "      <td>0</td>\n",
       "      <td>BB</td>\n",
       "      <td>GBR</td>\n",
       "      <td>A</td>\n",
       "      <td>A</td>\n",
       "      <td>Transient</td>\n",
       "      <td>Check-Out</td>\n",
       "      <td>2015-07-02</td>\n",
       "    </tr>\n",
       "    <tr>\n",
       "      <th>4</th>\n",
       "      <td>Resort Hotel</td>\n",
       "      <td>0</td>\n",
       "      <td>14</td>\n",
       "      <td>2015-07-01</td>\n",
       "      <td>2015</td>\n",
       "      <td>July</td>\n",
       "      <td>27</td>\n",
       "      <td>1</td>\n",
       "      <td>0</td>\n",
       "      <td>2</td>\n",
       "      <td>...</td>\n",
       "      <td>2</td>\n",
       "      <td>0.0</td>\n",
       "      <td>0</td>\n",
       "      <td>BB</td>\n",
       "      <td>GBR</td>\n",
       "      <td>A</td>\n",
       "      <td>A</td>\n",
       "      <td>Transient</td>\n",
       "      <td>Check-Out</td>\n",
       "      <td>2015-07-03</td>\n",
       "    </tr>\n",
       "  </tbody>\n",
       "</table>\n",
       "<p>5 rows × 21 columns</p>\n",
       "</div>"
      ],
      "text/plain": [
       "          hotel  is_canceled  lead_time arrival_full_date  arrival_date_year  \\\n",
       "0  Resort Hotel            0        342        2015-07-01               2015   \n",
       "1  Resort Hotel            0        737        2015-07-01               2015   \n",
       "2  Resort Hotel            0          7        2015-07-01               2015   \n",
       "3  Resort Hotel            0         13        2015-07-01               2015   \n",
       "4  Resort Hotel            0         14        2015-07-01               2015   \n",
       "\n",
       "  arrival_date_month  arrival_date_week_number  arrival_date_day_of_month  \\\n",
       "0               July                        27                          1   \n",
       "1               July                        27                          1   \n",
       "2               July                        27                          1   \n",
       "3               July                        27                          1   \n",
       "4               July                        27                          1   \n",
       "\n",
       "   stays_in_weekend_nights  stays_in_week_nights  ...  adults  children  \\\n",
       "0                        0                     0  ...       2       0.0   \n",
       "1                        0                     0  ...       2       0.0   \n",
       "2                        0                     1  ...       1       0.0   \n",
       "3                        0                     1  ...       1       0.0   \n",
       "4                        0                     2  ...       2       0.0   \n",
       "\n",
       "   babies  meal country reserved_room_type assigned_room_type customer_type  \\\n",
       "0       0    BB     PRT                  C                  C     Transient   \n",
       "1       0    BB     PRT                  C                  C     Transient   \n",
       "2       0    BB     GBR                  A                  C     Transient   \n",
       "3       0    BB     GBR                  A                  A     Transient   \n",
       "4       0    BB     GBR                  A                  A     Transient   \n",
       "\n",
       "  reservation_status reservation_status_date  \n",
       "0          Check-Out              2015-07-01  \n",
       "1          Check-Out              2015-07-01  \n",
       "2          Check-Out              2015-07-02  \n",
       "3          Check-Out              2015-07-02  \n",
       "4          Check-Out              2015-07-03  \n",
       "\n",
       "[5 rows x 21 columns]"
      ]
     },
     "execution_count": 49,
     "metadata": {},
     "output_type": "execute_result"
    }
   ],
   "source": [
    "bookings.head()"
   ]
  },
  {
   "cell_type": "markdown",
   "id": "3d762a4b",
   "metadata": {},
   "source": [
    "###### Поиск места откуда чаще приезжают в отель"
   ]
  },
  {
   "cell_type": "code",
   "execution_count": 56,
   "id": "c13b6c48",
   "metadata": {},
   "outputs": [
    {
     "data": {
      "text/plain": [
       "PRT    21071\n",
       "GBR     9676\n",
       "FRA     8481\n",
       "ESP     6391\n",
       "DEU     6069\n",
       "Name: country, dtype: int64"
      ]
     },
     "execution_count": 56,
     "metadata": {},
     "output_type": "execute_result"
    }
   ],
   "source": [
    "bookings \\\n",
    "    .query('is_canceled == 0') \\\n",
    "    .country \\\n",
    "    .value_counts() \\\n",
    "    .head(5)"
   ]
  },
  {
   "cell_type": "markdown",
   "id": "eed6a39b",
   "metadata": {},
   "source": [
    "###### сколько в среднем ночуют в разных отелях"
   ]
  },
  {
   "cell_type": "code",
   "execution_count": 65,
   "id": "507d9346",
   "metadata": {},
   "outputs": [
    {
     "data": {
      "text/html": [
       "<div>\n",
       "<style scoped>\n",
       "    .dataframe tbody tr th:only-of-type {\n",
       "        vertical-align: middle;\n",
       "    }\n",
       "\n",
       "    .dataframe tbody tr th {\n",
       "        vertical-align: top;\n",
       "    }\n",
       "\n",
       "    .dataframe thead th {\n",
       "        text-align: right;\n",
       "    }\n",
       "</style>\n",
       "<table border=\"1\" class=\"dataframe\">\n",
       "  <thead>\n",
       "    <tr style=\"text-align: right;\">\n",
       "      <th></th>\n",
       "      <th>hotel</th>\n",
       "      <th>stays_total_nights</th>\n",
       "    </tr>\n",
       "  </thead>\n",
       "  <tbody>\n",
       "    <tr>\n",
       "      <th>0</th>\n",
       "      <td>City Hotel</td>\n",
       "      <td>2.98</td>\n",
       "    </tr>\n",
       "    <tr>\n",
       "      <th>1</th>\n",
       "      <td>Resort Hotel</td>\n",
       "      <td>4.32</td>\n",
       "    </tr>\n",
       "  </tbody>\n",
       "</table>\n",
       "</div>"
      ],
      "text/plain": [
       "          hotel  stays_total_nights\n",
       "0    City Hotel                2.98\n",
       "1  Resort Hotel                4.32"
      ]
     },
     "execution_count": 65,
     "metadata": {},
     "output_type": "execute_result"
    }
   ],
   "source": [
    "bookings \\\n",
    "    .query('hotel == \"Resort Hotel\" or hotel == \"City Hotel\"') \\\n",
    "    .groupby('hotel', as_index=False) \\\n",
    "    .agg({'stays_total_nights': 'mean'}) \\\n",
    "    .round(2)"
   ]
  },
  {
   "cell_type": "markdown",
   "id": "e0d803ca",
   "metadata": {},
   "source": [
    "###### Количество забронировавших но не заселившихся в отель"
   ]
  },
  {
   "cell_type": "code",
   "execution_count": 77,
   "id": "12602ff2",
   "metadata": {},
   "outputs": [
    {
     "data": {
      "text/plain": [
       "14917"
      ]
     },
     "execution_count": 77,
     "metadata": {},
     "output_type": "execute_result"
    }
   ],
   "source": [
    "len(bookings.query('reserved_room_type != assigned_room_type'))"
   ]
  },
  {
   "cell_type": "code",
   "execution_count": 78,
   "id": "29903451",
   "metadata": {},
   "outputs": [
    {
     "data": {
      "text/plain": [
       "14917"
      ]
     },
     "execution_count": 78,
     "metadata": {},
     "output_type": "execute_result"
    }
   ],
   "source": [
    "len(bookings.loc[bookings.reserved_room_type != bookings.assigned_room_type])"
   ]
  },
  {
   "cell_type": "markdown",
   "id": "ae11461a",
   "metadata": {},
   "source": [
    "######  Самые популярные месяцы в 2016 и 2017 годах"
   ]
  },
  {
   "cell_type": "code",
   "execution_count": 84,
   "id": "fe5f76c2",
   "metadata": {
    "scrolled": true
   },
   "outputs": [
    {
     "data": {
      "text/plain": [
       "October      6203\n",
       "May          5478\n",
       "April        5428\n",
       "September    5394\n",
       "June         5292\n",
       "August       5063\n",
       "March        4824\n",
       "July         4572\n",
       "November     4454\n",
       "February     3891\n",
       "December     3860\n",
       "January      2248\n",
       "Name: arrival_date_month, dtype: int64"
      ]
     },
     "execution_count": 84,
     "metadata": {},
     "output_type": "execute_result"
    }
   ],
   "source": [
    "bookings.loc[bookings.arrival_date_year == 2016].arrival_date_month.value_counts().sort_values(ascending=False)"
   ]
  },
  {
   "cell_type": "code",
   "execution_count": 85,
   "id": "f8fc5224",
   "metadata": {
    "scrolled": true
   },
   "outputs": [
    {
     "data": {
      "text/plain": [
       "May         6313\n",
       "April       5661\n",
       "June        5647\n",
       "July        5313\n",
       "March       4970\n",
       "August      4925\n",
       "February    4177\n",
       "January     3681\n",
       "Name: arrival_date_month, dtype: int64"
      ]
     },
     "execution_count": 85,
     "metadata": {},
     "output_type": "execute_result"
    }
   ],
   "source": [
    "bookings.loc[bookings.arrival_date_year == 2017].arrival_date_month.value_counts().sort_values(ascending=False)"
   ]
  },
  {
   "cell_type": "code",
   "execution_count": 87,
   "id": "c1efaecc",
   "metadata": {},
   "outputs": [
    {
     "data": {
      "text/plain": [
       "arrival_date_year\n",
       "2015    September\n",
       "2016      October\n",
       "2017          May\n",
       "Name: arrival_date_month, dtype: object"
      ]
     },
     "execution_count": 87,
     "metadata": {},
     "output_type": "execute_result"
    }
   ],
   "source": [
    "bookings.groupby('arrival_date_year').arrival_date_month.agg(pd.Series.mode)"
   ]
  },
  {
   "cell_type": "markdown",
   "id": "b30791b7",
   "metadata": {},
   "source": [
    "###### Самые отменияемы месяца в 2015, 2016, 2017 годах"
   ]
  },
  {
   "cell_type": "code",
   "execution_count": 90,
   "id": "b085f366",
   "metadata": {},
   "outputs": [
    {
     "data": {
      "text/plain": [
       "arrival_date_year\n",
       "2015    September\n",
       "2016      October\n",
       "2017          May\n",
       "Name: arrival_date_month, dtype: object"
      ]
     },
     "execution_count": 90,
     "metadata": {},
     "output_type": "execute_result"
    }
   ],
   "source": [
    "bookings \\\n",
    "    .query('is_canceled == 1 & hotel == \"City Hotel\"') \\\n",
    "    .groupby('arrival_date_year') \\\n",
    "    .arrival_date_month \\\n",
    "    .agg(pd.Series.mode)"
   ]
  },
  {
   "cell_type": "code",
   "execution_count": 94,
   "id": "b0e923de",
   "metadata": {},
   "outputs": [
    {
     "data": {
      "text/plain": [
       "adults      1.856403\n",
       "children    0.103890\n",
       "babies      0.007949\n",
       "dtype: float64"
      ]
     },
     "execution_count": 94,
     "metadata": {},
     "output_type": "execute_result"
    }
   ],
   "source": [
    "bookings[['adults', 'children', 'babies']].mean()"
   ]
  },
  {
   "cell_type": "code",
   "execution_count": 97,
   "id": "1b4b104c",
   "metadata": {},
   "outputs": [],
   "source": [
    "bookings['total_kids'] = bookings['children'] + bookings['babies']"
   ]
  },
  {
   "cell_type": "code",
   "execution_count": 101,
   "id": "11764ba2",
   "metadata": {},
   "outputs": [
    {
     "data": {
      "text/html": [
       "<div>\n",
       "<style scoped>\n",
       "    .dataframe tbody tr th:only-of-type {\n",
       "        vertical-align: middle;\n",
       "    }\n",
       "\n",
       "    .dataframe tbody tr th {\n",
       "        vertical-align: top;\n",
       "    }\n",
       "\n",
       "    .dataframe thead th {\n",
       "        text-align: right;\n",
       "    }\n",
       "</style>\n",
       "<table border=\"1\" class=\"dataframe\">\n",
       "  <thead>\n",
       "    <tr style=\"text-align: right;\">\n",
       "      <th></th>\n",
       "      <th>total_kids</th>\n",
       "    </tr>\n",
       "    <tr>\n",
       "      <th>hotel</th>\n",
       "      <th></th>\n",
       "    </tr>\n",
       "  </thead>\n",
       "  <tbody>\n",
       "    <tr>\n",
       "      <th>City Hotel</th>\n",
       "      <td>0.10</td>\n",
       "    </tr>\n",
       "    <tr>\n",
       "      <th>Resort Hotel</th>\n",
       "      <td>0.14</td>\n",
       "    </tr>\n",
       "  </tbody>\n",
       "</table>\n",
       "</div>"
      ],
      "text/plain": [
       "              total_kids\n",
       "hotel                   \n",
       "City Hotel          0.10\n",
       "Resort Hotel        0.14"
      ]
     },
     "execution_count": 101,
     "metadata": {},
     "output_type": "execute_result"
    }
   ],
   "source": [
    "bookings.groupby('hotel').agg({'total_kids': 'mean'}).round(2)"
   ]
  },
  {
   "cell_type": "markdown",
   "id": "431278f1",
   "metadata": {},
   "source": [
    "###### уровень отказа от бронирования в зависимости от наличия детей"
   ]
  },
  {
   "cell_type": "code",
   "execution_count": 105,
   "id": "b37b7d3c",
   "metadata": {},
   "outputs": [],
   "source": [
    "bookings['has_kids'] = bookings['total_kids'] > 0"
   ]
  },
  {
   "cell_type": "code",
   "execution_count": 130,
   "id": "293d8d1e",
   "metadata": {},
   "outputs": [
    {
     "data": {
      "text/plain": [
       "has_kids\n",
       "False    0.372213\n",
       "Name: is_canceled, dtype: float64"
      ]
     },
     "execution_count": 130,
     "metadata": {},
     "output_type": "execute_result"
    }
   ],
   "source": [
    "bookings.query('has_kids == False').groupby('has_kids').is_canceled.sum() / bookings.query('has_kids == False').shape[0]"
   ]
  },
  {
   "cell_type": "code",
   "execution_count": 132,
   "id": "806fbbe6",
   "metadata": {},
   "outputs": [
    {
     "data": {
      "text/plain": [
       "has_kids  is_canceled\n",
       "False     0              62.78\n",
       "          1              37.22\n",
       "True      0              65.08\n",
       "          1              34.92\n",
       "Name: is_canceled, dtype: float64"
      ]
     },
     "execution_count": 132,
     "metadata": {},
     "output_type": "execute_result"
    }
   ],
   "source": [
    "(bookings.groupby('has_kids').is_canceled.value_counts(normalize=True) * 100).round(2)"
   ]
  },
  {
   "cell_type": "code",
   "execution_count": null,
   "id": "fa067fdf",
   "metadata": {},
   "outputs": [],
   "source": []
  }
 ],
 "metadata": {
  "kernelspec": {
   "display_name": "Python 3 (ipykernel)",
   "language": "python",
   "name": "python3"
  },
  "language_info": {
   "codemirror_mode": {
    "name": "ipython",
    "version": 3
   },
   "file_extension": ".py",
   "mimetype": "text/x-python",
   "name": "python",
   "nbconvert_exporter": "python",
   "pygments_lexer": "ipython3",
   "version": "3.9.12"
  }
 },
 "nbformat": 4,
 "nbformat_minor": 5
}
